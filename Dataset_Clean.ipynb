{
 "cells": [
  {
   "cell_type": "markdown",
   "id": "e028e193-b334-496a-9bd2-67219ed232b4",
   "metadata": {},
   "source": [
    "# **Cafe Sales - Dirty Data for Cleaning Training**"
   ]
  },
  {
   "cell_type": "markdown",
   "id": "b3bb1047-16a1-41f7-ad86-725e7248813c",
   "metadata": {},
   "source": [
    "## Overview\n",
    "\n",
    "The Dirty Cafe Sales dataset contains 10,000 rows of synthetic data representing sales transactions in a cafe. This dataset is intentionally \"dirty,\" with missing values, inconsistent data, and errors introduced to provide a realistic scenario for data cleaning and exploratory data analysis (EDA). It can be used to practice cleaning techniques, data wrangling, and feature engineering."
   ]
  },
  {
   "cell_type": "markdown",
   "id": "6f7b0416-13d0-409a-8642-6e57eaf50999",
   "metadata": {},
   "source": [
    "### File Information"
   ]
  },
  {
   "cell_type": "markdown",
   "id": "dad6eabb-f3e5-49ed-8c0d-8d0f28f0f8b1",
   "metadata": {},
   "source": [
    "- File Name: `dirty_cafe_sales.csv`\n",
    "- Number of Rows: `10,000`\n",
    "- Number of Columns: `8`"
   ]
  },
  {
   "cell_type": "markdown",
   "id": "6a0cf49f-4dcd-4848-bf77-95efaa91bbd3",
   "metadata": {},
   "source": [
    "### Columns Description"
   ]
  },
  {
   "cell_type": "markdown",
   "id": "c7c6d7a0-17c8-4b75-87d0-5bcd6f87a479",
   "metadata": {},
   "source": [
    "Column Name  |Description\t |Example Values  |\n",
    "-----|-----|-----|\n",
    "Transaction ID |A unique identifier for each transaction. Always present and unique. |`TXN_1234567` |\n",
    "Item |The name of the item purchased. May contain missing or invalid values (e.g., \"ERROR\"). |`Coffee, Sandwich` |\n",
    "Quantity |The quantity of the item purchased. May contain missing or invalid values. |`1, 3, UNKNOWN` |\n",
    "Price Per Unit |The price of a single unit of the item. May contain missing or invalid values. |`2.00, 4.00` |\n",
    "Total Spent |The total amount spent on the transaction. Calculated as Quantity * Price Per Unit. |`8.00, 12.00` |\n",
    "Payment Method |The method of payment used. May contain missing or invalid values (e.g., None, \"UNKNOWN\"). |`Cash, Credit Card`|\n",
    "Location |The location where the transaction occurred. May contain missing or invalid values |`In-store, Takeaway` |\n",
    "Transaction Date |The date of the transaction. May contain missing or incorrect values. |`2023-01-01`|"
   ]
  },
  {
   "cell_type": "markdown",
   "id": "00d7181c-3408-4e85-9733-b9a0853ed768",
   "metadata": {},
   "source": [
    "### Import Packages"
   ]
  },
  {
   "cell_type": "code",
   "execution_count": 1,
   "id": "34c5bda3-b3d3-4ad2-a4df-9999cd2ae943",
   "metadata": {},
   "outputs": [],
   "source": [
    "# Import packages\n",
    "### YOUR CODE HERE ### \n",
    "# For data manipulation\n",
    "import numpy as np\n",
    "import pandas as pd\n",
    "\n",
    "# For data visualization\n",
    "import matplotlib.pyplot as plt\n",
    "import seaborn as sns\n",
    "\n",
    "# For displaying all of the columns in dataframes\n",
    "pd.set_option('display.max_columns', None)"
   ]
  },
  {
   "cell_type": "markdown",
   "id": "b56e858b-5835-4647-8596-8baf406e0294",
   "metadata": {},
   "source": [
    "## Load Dataset "
   ]
  },
  {
   "cell_type": "code",
   "execution_count": 2,
   "id": "572a1c9c-55ca-4ef2-81d2-2ea7d67725ab",
   "metadata": {},
   "outputs": [],
   "source": [
    "# Load dataset into a dataframe\n",
    "df0 = pd.read_csv(\"dirty_cafe_sales.csv\")"
   ]
  },
  {
   "cell_type": "code",
   "execution_count": 3,
   "id": "7a658d42-16c4-4533-9924-ecdaedc075e3",
   "metadata": {},
   "outputs": [
    {
     "data": {
      "text/html": [
       "<div>\n",
       "<style scoped>\n",
       "    .dataframe tbody tr th:only-of-type {\n",
       "        vertical-align: middle;\n",
       "    }\n",
       "\n",
       "    .dataframe tbody tr th {\n",
       "        vertical-align: top;\n",
       "    }\n",
       "\n",
       "    .dataframe thead th {\n",
       "        text-align: right;\n",
       "    }\n",
       "</style>\n",
       "<table border=\"1\" class=\"dataframe\">\n",
       "  <thead>\n",
       "    <tr style=\"text-align: right;\">\n",
       "      <th></th>\n",
       "      <th>Transaction ID</th>\n",
       "      <th>Item</th>\n",
       "      <th>Quantity</th>\n",
       "      <th>Price Per Unit</th>\n",
       "      <th>Total Spent</th>\n",
       "      <th>Payment Method</th>\n",
       "      <th>Location</th>\n",
       "      <th>Transaction Date</th>\n",
       "    </tr>\n",
       "  </thead>\n",
       "  <tbody>\n",
       "    <tr>\n",
       "      <th>0</th>\n",
       "      <td>TXN_1961373</td>\n",
       "      <td>Coffee</td>\n",
       "      <td>2</td>\n",
       "      <td>2.0</td>\n",
       "      <td>4.0</td>\n",
       "      <td>Credit Card</td>\n",
       "      <td>Takeaway</td>\n",
       "      <td>2023-09-08</td>\n",
       "    </tr>\n",
       "    <tr>\n",
       "      <th>1</th>\n",
       "      <td>TXN_4977031</td>\n",
       "      <td>Cake</td>\n",
       "      <td>4</td>\n",
       "      <td>3.0</td>\n",
       "      <td>12.0</td>\n",
       "      <td>Cash</td>\n",
       "      <td>In-store</td>\n",
       "      <td>2023-05-16</td>\n",
       "    </tr>\n",
       "    <tr>\n",
       "      <th>2</th>\n",
       "      <td>TXN_4271903</td>\n",
       "      <td>Cookie</td>\n",
       "      <td>4</td>\n",
       "      <td>1.0</td>\n",
       "      <td>ERROR</td>\n",
       "      <td>Credit Card</td>\n",
       "      <td>In-store</td>\n",
       "      <td>2023-07-19</td>\n",
       "    </tr>\n",
       "    <tr>\n",
       "      <th>3</th>\n",
       "      <td>TXN_7034554</td>\n",
       "      <td>Salad</td>\n",
       "      <td>2</td>\n",
       "      <td>5.0</td>\n",
       "      <td>10.0</td>\n",
       "      <td>UNKNOWN</td>\n",
       "      <td>UNKNOWN</td>\n",
       "      <td>2023-04-27</td>\n",
       "    </tr>\n",
       "    <tr>\n",
       "      <th>4</th>\n",
       "      <td>TXN_3160411</td>\n",
       "      <td>Coffee</td>\n",
       "      <td>2</td>\n",
       "      <td>2.0</td>\n",
       "      <td>4.0</td>\n",
       "      <td>Digital Wallet</td>\n",
       "      <td>In-store</td>\n",
       "      <td>2023-06-11</td>\n",
       "    </tr>\n",
       "    <tr>\n",
       "      <th>5</th>\n",
       "      <td>TXN_2602893</td>\n",
       "      <td>Smoothie</td>\n",
       "      <td>5</td>\n",
       "      <td>4.0</td>\n",
       "      <td>20.0</td>\n",
       "      <td>Credit Card</td>\n",
       "      <td>NaN</td>\n",
       "      <td>2023-03-31</td>\n",
       "    </tr>\n",
       "    <tr>\n",
       "      <th>6</th>\n",
       "      <td>TXN_4433211</td>\n",
       "      <td>UNKNOWN</td>\n",
       "      <td>3</td>\n",
       "      <td>3.0</td>\n",
       "      <td>9.0</td>\n",
       "      <td>ERROR</td>\n",
       "      <td>Takeaway</td>\n",
       "      <td>2023-10-06</td>\n",
       "    </tr>\n",
       "    <tr>\n",
       "      <th>7</th>\n",
       "      <td>TXN_6699534</td>\n",
       "      <td>Sandwich</td>\n",
       "      <td>4</td>\n",
       "      <td>4.0</td>\n",
       "      <td>16.0</td>\n",
       "      <td>Cash</td>\n",
       "      <td>UNKNOWN</td>\n",
       "      <td>2023-10-28</td>\n",
       "    </tr>\n",
       "    <tr>\n",
       "      <th>8</th>\n",
       "      <td>TXN_4717867</td>\n",
       "      <td>NaN</td>\n",
       "      <td>5</td>\n",
       "      <td>3.0</td>\n",
       "      <td>15.0</td>\n",
       "      <td>NaN</td>\n",
       "      <td>Takeaway</td>\n",
       "      <td>2023-07-28</td>\n",
       "    </tr>\n",
       "    <tr>\n",
       "      <th>9</th>\n",
       "      <td>TXN_2064365</td>\n",
       "      <td>Sandwich</td>\n",
       "      <td>5</td>\n",
       "      <td>4.0</td>\n",
       "      <td>20.0</td>\n",
       "      <td>NaN</td>\n",
       "      <td>In-store</td>\n",
       "      <td>2023-12-31</td>\n",
       "    </tr>\n",
       "  </tbody>\n",
       "</table>\n",
       "</div>"
      ],
      "text/plain": [
       "  Transaction ID      Item Quantity Price Per Unit Total Spent  \\\n",
       "0    TXN_1961373    Coffee        2            2.0         4.0   \n",
       "1    TXN_4977031      Cake        4            3.0        12.0   \n",
       "2    TXN_4271903    Cookie        4            1.0       ERROR   \n",
       "3    TXN_7034554     Salad        2            5.0        10.0   \n",
       "4    TXN_3160411    Coffee        2            2.0         4.0   \n",
       "5    TXN_2602893  Smoothie        5            4.0        20.0   \n",
       "6    TXN_4433211   UNKNOWN        3            3.0         9.0   \n",
       "7    TXN_6699534  Sandwich        4            4.0        16.0   \n",
       "8    TXN_4717867       NaN        5            3.0        15.0   \n",
       "9    TXN_2064365  Sandwich        5            4.0        20.0   \n",
       "\n",
       "   Payment Method  Location Transaction Date  \n",
       "0     Credit Card  Takeaway       2023-09-08  \n",
       "1            Cash  In-store       2023-05-16  \n",
       "2     Credit Card  In-store       2023-07-19  \n",
       "3         UNKNOWN   UNKNOWN       2023-04-27  \n",
       "4  Digital Wallet  In-store       2023-06-11  \n",
       "5     Credit Card       NaN       2023-03-31  \n",
       "6           ERROR  Takeaway       2023-10-06  \n",
       "7            Cash   UNKNOWN       2023-10-28  \n",
       "8             NaN  Takeaway       2023-07-28  \n",
       "9             NaN  In-store       2023-12-31  "
      ]
     },
     "execution_count": 3,
     "metadata": {},
     "output_type": "execute_result"
    }
   ],
   "source": [
    "df0.head(10)"
   ]
  },
  {
   "cell_type": "markdown",
   "id": "ee891265-d343-47ce-a2d0-676b3dee9dd3",
   "metadata": {
    "jp-MarkdownHeadingCollapsed": true
   },
   "source": [
    "## Data Exploration"
   ]
  },
  {
   "cell_type": "markdown",
   "id": "394e32f0-eb96-48c7-8890-1728e0b76789",
   "metadata": {},
   "source": [
    "### Basic information about the data "
   ]
  },
  {
   "cell_type": "code",
   "execution_count": 4,
   "id": "954f200c-7d41-4314-b185-e0f4281ebbdc",
   "metadata": {},
   "outputs": [
    {
     "name": "stdout",
     "output_type": "stream",
     "text": [
      "<class 'pandas.core.frame.DataFrame'>\n",
      "RangeIndex: 10000 entries, 0 to 9999\n",
      "Data columns (total 8 columns):\n",
      " #   Column            Non-Null Count  Dtype \n",
      "---  ------            --------------  ----- \n",
      " 0   Transaction ID    10000 non-null  object\n",
      " 1   Item              9667 non-null   object\n",
      " 2   Quantity          9862 non-null   object\n",
      " 3   Price Per Unit    9821 non-null   object\n",
      " 4   Total Spent       9827 non-null   object\n",
      " 5   Payment Method    7421 non-null   object\n",
      " 6   Location          6735 non-null   object\n",
      " 7   Transaction Date  9841 non-null   object\n",
      "dtypes: object(8)\n",
      "memory usage: 625.1+ KB\n"
     ]
    }
   ],
   "source": [
    "# Gather descriptive statistics about the data\n",
    "df0.info()"
   ]
  },
  {
   "cell_type": "markdown",
   "id": "d419d27b-35e0-4f60-87fa-c74be61351d1",
   "metadata": {},
   "source": [
    "### Descriptitve statistics about the data"
   ]
  },
  {
   "cell_type": "code",
   "execution_count": 5,
   "id": "101a5666-bc54-441f-a4e3-f3131da51201",
   "metadata": {},
   "outputs": [
    {
     "data": {
      "text/html": [
       "<div>\n",
       "<style scoped>\n",
       "    .dataframe tbody tr th:only-of-type {\n",
       "        vertical-align: middle;\n",
       "    }\n",
       "\n",
       "    .dataframe tbody tr th {\n",
       "        vertical-align: top;\n",
       "    }\n",
       "\n",
       "    .dataframe thead th {\n",
       "        text-align: right;\n",
       "    }\n",
       "</style>\n",
       "<table border=\"1\" class=\"dataframe\">\n",
       "  <thead>\n",
       "    <tr style=\"text-align: right;\">\n",
       "      <th></th>\n",
       "      <th>Transaction ID</th>\n",
       "      <th>Item</th>\n",
       "      <th>Quantity</th>\n",
       "      <th>Price Per Unit</th>\n",
       "      <th>Total Spent</th>\n",
       "      <th>Payment Method</th>\n",
       "      <th>Location</th>\n",
       "      <th>Transaction Date</th>\n",
       "    </tr>\n",
       "  </thead>\n",
       "  <tbody>\n",
       "    <tr>\n",
       "      <th>count</th>\n",
       "      <td>10000</td>\n",
       "      <td>9667</td>\n",
       "      <td>9862</td>\n",
       "      <td>9821</td>\n",
       "      <td>9827</td>\n",
       "      <td>7421</td>\n",
       "      <td>6735</td>\n",
       "      <td>9841</td>\n",
       "    </tr>\n",
       "    <tr>\n",
       "      <th>unique</th>\n",
       "      <td>10000</td>\n",
       "      <td>10</td>\n",
       "      <td>7</td>\n",
       "      <td>8</td>\n",
       "      <td>19</td>\n",
       "      <td>5</td>\n",
       "      <td>4</td>\n",
       "      <td>367</td>\n",
       "    </tr>\n",
       "    <tr>\n",
       "      <th>top</th>\n",
       "      <td>TXN_1961373</td>\n",
       "      <td>Juice</td>\n",
       "      <td>5</td>\n",
       "      <td>3.0</td>\n",
       "      <td>6.0</td>\n",
       "      <td>Digital Wallet</td>\n",
       "      <td>Takeaway</td>\n",
       "      <td>UNKNOWN</td>\n",
       "    </tr>\n",
       "    <tr>\n",
       "      <th>freq</th>\n",
       "      <td>1</td>\n",
       "      <td>1171</td>\n",
       "      <td>2013</td>\n",
       "      <td>2429</td>\n",
       "      <td>979</td>\n",
       "      <td>2291</td>\n",
       "      <td>3022</td>\n",
       "      <td>159</td>\n",
       "    </tr>\n",
       "  </tbody>\n",
       "</table>\n",
       "</div>"
      ],
      "text/plain": [
       "       Transaction ID   Item Quantity Price Per Unit Total Spent  \\\n",
       "count           10000   9667     9862           9821        9827   \n",
       "unique          10000     10        7              8          19   \n",
       "top       TXN_1961373  Juice        5            3.0         6.0   \n",
       "freq                1   1171     2013           2429         979   \n",
       "\n",
       "        Payment Method  Location Transaction Date  \n",
       "count             7421      6735             9841  \n",
       "unique               5         4              367  \n",
       "top     Digital Wallet  Takeaway          UNKNOWN  \n",
       "freq              2291      3022              159  "
      ]
     },
     "execution_count": 5,
     "metadata": {},
     "output_type": "execute_result"
    }
   ],
   "source": [
    "# Gather descriptive statistics about the data\n",
    "### YOUR CODE HERE ###\n",
    "df0.describe()"
   ]
  },
  {
   "cell_type": "markdown",
   "id": "24224f10-6a65-43a3-ae80-c28717fe27c6",
   "metadata": {},
   "source": [
    "### Rename columns"
   ]
  },
  {
   "cell_type": "code",
   "execution_count": 6,
   "id": "d480e650-0e9c-4635-b912-d445feb3cdb7",
   "metadata": {},
   "outputs": [
    {
     "data": {
      "text/plain": [
       "Index(['Transaction ID', 'Item', 'Quantity', 'Price Per Unit', 'Total Spent',\n",
       "       'Payment Method', 'Location', 'Transaction Date'],\n",
       "      dtype='object')"
      ]
     },
     "execution_count": 6,
     "metadata": {},
     "output_type": "execute_result"
    }
   ],
   "source": [
    "# Display all column names\n",
    "df0. columns"
   ]
  },
  {
   "cell_type": "code",
   "execution_count": 7,
   "id": "10973901-7345-46c5-a74e-ff845a98e8ff",
   "metadata": {},
   "outputs": [
    {
     "data": {
      "text/plain": [
       "Index(['transaction_id', 'item', 'quantity', 'price_per_unit', 'total_spent',\n",
       "       'payment_method', 'location', 'transaction_date'],\n",
       "      dtype='object')"
      ]
     },
     "execution_count": 7,
     "metadata": {},
     "output_type": "execute_result"
    }
   ],
   "source": [
    "# Rename columns as needed\n",
    "df0 = df0.rename(\n",
    "    columns = {'Transaction ID':'transaction_id',\n",
    "               'Item':'item', 'Quantity':'quantity',\n",
    "               'Price Per Unit':'price_per_unit',\n",
    "               'Total Spent':'total_spent',\n",
    "               'Payment Method':'payment_method',\n",
    "               'Location':'location',\n",
    "               'Transaction Date':'transaction_date'\n",
    "              }\n",
    ")\n",
    "\n",
    "# Displaying the new name columns\n",
    "df0.columns"
   ]
  },
  {
   "cell_type": "markdown",
   "id": "a838497a-2c8a-411f-99bf-3240bf9f25ca",
   "metadata": {},
   "source": [
    "### Create a copy"
   ]
  },
  {
   "cell_type": "code",
   "execution_count": 8,
   "id": "523cb340-d3f3-4d2f-a629-ed5604031fc8",
   "metadata": {},
   "outputs": [],
   "source": [
    "#Creating a copy from the dataframe\n",
    "df = df0.copy()"
   ]
  },
  {
   "cell_type": "markdown",
   "id": "76af5532-0062-426c-8c9d-7d5b265ad56f",
   "metadata": {},
   "source": [
    "### Replacing the UNKNOWN and ERROR values"
   ]
  },
  {
   "cell_type": "code",
   "execution_count": 9,
   "id": "7f9025ac-7631-40ae-925d-b020aadf5970",
   "metadata": {},
   "outputs": [
    {
     "name": "stdout",
     "output_type": "stream",
     "text": [
      "total_spent Values: ['4.0' '12.0' 'ERROR' '10.0' '20.0' '9.0' '16.0' '15.0' '25.0' '8.0' '5.0'\n",
      " '3.0' '6.0' nan 'UNKNOWN' '2.0' '1.0' '7.5' '4.5' '1.5']\n",
      "\n",
      "price_per_unit Values: ['2.0' '3.0' '1.0' '5.0' '4.0' '1.5' nan 'ERROR' 'UNKNOWN']\n",
      "\n",
      "location Values: ['Takeaway' 'In-store' 'UNKNOWN' nan 'ERROR']\n",
      "\n",
      "quantity Values: ['2' '4' '5' '3' '1' 'ERROR' 'UNKNOWN' nan]\n",
      "\n",
      "item Values: ['Coffee' 'Cake' 'Cookie' 'Salad' 'Smoothie' 'UNKNOWN' 'Sandwich' nan\n",
      " 'ERROR' 'Juice' 'Tea']\n",
      "\n",
      "payment_method Values: ['Credit Card' 'Cash' 'UNKNOWN' 'Digital Wallet' 'ERROR' nan]\n",
      "\n"
     ]
    }
   ],
   "source": [
    "cat_col = {'item', 'quantity', 'price_per_unit', 'total_spent',\n",
    "       'payment_method', 'location'}\n",
    "#Determining the unique values for most of the columns\n",
    "for col in cat_col:\n",
    "    unique = df[col].unique()\n",
    "    print(f\"{col} Values: {unique}\\n\")"
   ]
  },
  {
   "cell_type": "code",
   "execution_count": 10,
   "id": "1db42146-cc17-4627-8f62-e9a23f80ec2c",
   "metadata": {},
   "outputs": [
    {
     "name": "stdout",
     "output_type": "stream",
     "text": [
      "total_spent Values: ['4.0' '12.0' nan '10.0' '20.0' '9.0' '16.0' '15.0' '25.0' '8.0' '5.0'\n",
      " '3.0' '6.0' '2.0' '1.0' '7.5' '4.5' '1.5']\n",
      "\n",
      "price_per_unit Values: ['2.0' '3.0' '1.0' '5.0' '4.0' '1.5' nan]\n",
      "\n",
      "location Values: ['Takeaway' 'In-store' nan]\n",
      "\n",
      "quantity Values: ['2' '4' '5' '3' '1' nan]\n",
      "\n",
      "item Values: ['Coffee' 'Cake' 'Cookie' 'Salad' 'Smoothie' nan 'Sandwich' 'Juice' 'Tea']\n",
      "\n",
      "payment_method Values: ['Credit Card' 'Cash' nan 'Digital Wallet']\n",
      "\n"
     ]
    }
   ],
   "source": [
    "#Replacing with NaN values\n",
    "df.replace(['UNKNOWN', 'ERROR'], np.nan, inplace = True)\n",
    "\n",
    "#Repeating the process above to check that the values were correctly replaced.\n",
    "cat_col = {'item', 'quantity', 'price_per_unit', 'total_spent',\n",
    "       'payment_method', 'location'}\n",
    "\n",
    "for col in cat_col:\n",
    "    unique = df[col].unique()\n",
    "    print(f\"{col} Values: {unique}\\n\")"
   ]
  },
  {
   "cell_type": "code",
   "execution_count": 11,
   "id": "afd13532-c727-4e42-b445-1fdc8a344142",
   "metadata": {},
   "outputs": [
    {
     "name": "stdout",
     "output_type": "stream",
     "text": [
      "NaN/Null values per column transaction_id         0\n",
      "item                 969\n",
      "quantity             479\n",
      "price_per_unit       533\n",
      "total_spent          502\n",
      "payment_method      3178\n",
      "location            3961\n",
      "transaction_date     460\n",
      "dtype: int64 \n",
      "\n",
      "Total rows with NaN/Null values 6911\n"
     ]
    }
   ],
   "source": [
    "print(\"NaN/Null values per column\", df.isnull().sum(), \"\\n\")\n",
    "print(\"Total rows with NaN/Null values\", df.isnull().any(axis=1).sum())"
   ]
  },
  {
   "cell_type": "markdown",
   "id": "026e4fce-1a52-431f-80d1-669c322b2955",
   "metadata": {},
   "source": [
    "## Data Cleaning"
   ]
  },
  {
   "cell_type": "markdown",
   "id": "e42caa7e-2e1b-402c-9b22-ec4ecb37751b",
   "metadata": {},
   "source": [
    "### Changing the Data type"
   ]
  },
  {
   "cell_type": "code",
   "execution_count": 12,
   "id": "2fa19c50-25c4-4a26-8650-e939c526fbf8",
   "metadata": {},
   "outputs": [
    {
     "data": {
      "text/plain": [
       "transaction_id       object\n",
       "item                 object\n",
       "quantity            float64\n",
       "price_per_unit      float64\n",
       "total_spent         float64\n",
       "payment_method       object\n",
       "location             object\n",
       "transaction_date     object\n",
       "dtype: object"
      ]
     },
     "execution_count": 12,
     "metadata": {},
     "output_type": "execute_result"
    }
   ],
   "source": [
    "int_col = {'quantity', 'price_per_unit', 'total_spent'}\n",
    "\n",
    "#Transforming the data type from these three columns into numeric\n",
    "for col in int_col:\n",
    "    df[col] = pd.to_numeric(df[col], errors = 'coerce')\n",
    "\n",
    "#Checking the data type\n",
    "df.dtypes"
   ]
  },
  {
   "cell_type": "markdown",
   "id": "88e9598e-e810-402d-93b7-14bacaa90378",
   "metadata": {},
   "source": [
    "### Fixing Price Per Unit List"
   ]
  },
  {
   "cell_type": "markdown",
   "id": "2506e048-5987-4c17-baeb-3d335065e877",
   "metadata": {},
   "source": [
    "Determining the price list per item."
   ]
  },
  {
   "cell_type": "code",
   "execution_count": 13,
   "id": "456028bf-f8fc-4d82-9bbb-481dde7a93db",
   "metadata": {},
   "outputs": [
    {
     "data": {
      "text/html": [
       "<div>\n",
       "<style scoped>\n",
       "    .dataframe tbody tr th:only-of-type {\n",
       "        vertical-align: middle;\n",
       "    }\n",
       "\n",
       "    .dataframe tbody tr th {\n",
       "        vertical-align: top;\n",
       "    }\n",
       "\n",
       "    .dataframe thead th {\n",
       "        text-align: right;\n",
       "    }\n",
       "</style>\n",
       "<table border=\"1\" class=\"dataframe\">\n",
       "  <thead>\n",
       "    <tr style=\"text-align: right;\">\n",
       "      <th></th>\n",
       "      <th>item</th>\n",
       "      <th>price_per_unit</th>\n",
       "    </tr>\n",
       "  </thead>\n",
       "  <tbody>\n",
       "    <tr>\n",
       "      <th>2</th>\n",
       "      <td>Cookie</td>\n",
       "      <td>1.0</td>\n",
       "    </tr>\n",
       "    <tr>\n",
       "      <th>42</th>\n",
       "      <td>Tea</td>\n",
       "      <td>1.5</td>\n",
       "    </tr>\n",
       "    <tr>\n",
       "      <th>0</th>\n",
       "      <td>Coffee</td>\n",
       "      <td>2.0</td>\n",
       "    </tr>\n",
       "    <tr>\n",
       "      <th>1</th>\n",
       "      <td>Cake</td>\n",
       "      <td>3.0</td>\n",
       "    </tr>\n",
       "    <tr>\n",
       "      <th>17</th>\n",
       "      <td>Juice</td>\n",
       "      <td>3.0</td>\n",
       "    </tr>\n",
       "    <tr>\n",
       "      <th>7</th>\n",
       "      <td>Sandwich</td>\n",
       "      <td>4.0</td>\n",
       "    </tr>\n",
       "    <tr>\n",
       "      <th>5</th>\n",
       "      <td>Smoothie</td>\n",
       "      <td>4.0</td>\n",
       "    </tr>\n",
       "    <tr>\n",
       "      <th>3</th>\n",
       "      <td>Salad</td>\n",
       "      <td>5.0</td>\n",
       "    </tr>\n",
       "  </tbody>\n",
       "</table>\n",
       "</div>"
      ],
      "text/plain": [
       "        item  price_per_unit\n",
       "2     Cookie             1.0\n",
       "42       Tea             1.5\n",
       "0     Coffee             2.0\n",
       "1       Cake             3.0\n",
       "17     Juice             3.0\n",
       "7   Sandwich             4.0\n",
       "5   Smoothie             4.0\n",
       "3      Salad             5.0"
      ]
     },
     "execution_count": 13,
     "metadata": {},
     "output_type": "execute_result"
    }
   ],
   "source": [
    "df[['item', 'price_per_unit']].dropna().drop_duplicates().sort_values(by='price_per_unit')"
   ]
  },
  {
   "cell_type": "markdown",
   "id": "7b64e540-e6ff-4290-b2bd-2baf92596884",
   "metadata": {},
   "source": [
    "Since there are `NaN` values in the columns `price_per_unit`, `quantity`, `total_spent`, I filled it by using the following formula:\n",
    "$$t = {q}*{p}$$\n",
    "\n",
    "Where:\n",
    "- `t` = total_spent\n",
    "- `q` = quantity\n",
    "- `p` = price_per_unit"
   ]
  },
  {
   "cell_type": "code",
   "execution_count": 14,
   "id": "bf93136e-6ec8-4167-b3d6-757b8711f92a",
   "metadata": {},
   "outputs": [],
   "source": [
    "#Operations for the following columns.\n",
    "df['price_per_unit'] = df['price_per_unit'].fillna(df['total_spent']/df['quantity'])\n",
    "df['quantity'] = df['quantity'].fillna(df['total_spent']/df['price_per_unit'])\n",
    "df['total_spent'] = df['total_spent'].fillna(df['quantity'] * df['price_per_unit'])"
   ]
  },
  {
   "cell_type": "code",
   "execution_count": 15,
   "id": "5b681432-5745-4ac8-9206-617f9ea404a4",
   "metadata": {},
   "outputs": [
    {
     "name": "stdout",
     "output_type": "stream",
     "text": [
      "Total rows with NaN/Null values 6444\n"
     ]
    }
   ],
   "source": [
    "#Dictionarie to fix the prices for each item.\n",
    "fixed_prices = {\n",
    "    'Cookie':1.0,\n",
    "    'Tea':1.5,\n",
    "    'Coffee':2.0,\n",
    "    'Cake':3.0,\n",
    "    'Juice':3.0,\n",
    "    'Sandwich':4.0,\n",
    "    'Smoothie':4.0,\n",
    "    'Salad':5.0\n",
    "}\n",
    "\n",
    "#Function to fix the prices for each item.\n",
    "def correct_price(row):\n",
    "    item = row['item']\n",
    "    if item in fixed_prices:\n",
    "        return fixed_prices[item]\n",
    "    else:\n",
    "        return row['price_per_unit']\n",
    "\n",
    "df['price_per_unit'] = df.apply(correct_price, axis=1)\n",
    "\n",
    "print(\"Total rows with NaN/Null values\", df.isnull().any(axis=1).sum())"
   ]
  },
  {
   "cell_type": "markdown",
   "id": "296e14d1-dc74-4219-be50-8fc71a6814ca",
   "metadata": {},
   "source": [
    "We reduced the `Nan`/Null values from 6911 to 6444. Although, we can reduced a little bit more by doing the other way around by fixing the items for each price that does not repeeat `price_per_unit`."
   ]
  },
  {
   "cell_type": "code",
   "execution_count": 16,
   "id": "5271f03d-d365-4170-83b3-6e8aa71b65f6",
   "metadata": {},
   "outputs": [
    {
     "name": "stdout",
     "output_type": "stream",
     "text": [
      "Total rows with NaN/Null values 6243\n"
     ]
    }
   ],
   "source": [
    "fixed_items = {\n",
    "    1.0: 'Cookie',\n",
    "    1.5: 'Tea',\n",
    "    2.0: 'Coffee',\n",
    "    5.0: 'Salad'\n",
    "}\n",
    "\n",
    "def correct_items(row):\n",
    "    price = row['price_per_unit']\n",
    "    if price in fixed_items:\n",
    "        return fixed_items[price]\n",
    "    else:\n",
    "        return row['item']\n",
    "\n",
    "df['item'] = df.apply(correct_items, axis=1)\n",
    "\n",
    "print(\"Total rows with NaN/Null values\", df.isnull().any(axis=1).sum())"
   ]
  },
  {
   "cell_type": "markdown",
   "id": "18328268-be4a-4057-8903-e9d4d289eec6",
   "metadata": {},
   "source": [
    "### Convert Transaction Date data type to Datatime Format."
   ]
  },
  {
   "cell_type": "code",
   "execution_count": 17,
   "id": "7ff6eb9f-7f34-4d3c-8e77-28bf161baab5",
   "metadata": {},
   "outputs": [
    {
     "data": {
      "text/plain": [
       "0      2023-09-08\n",
       "1      2023-05-16\n",
       "2      2023-07-19\n",
       "3      2023-04-27\n",
       "4      2023-06-11\n",
       "          ...    \n",
       "9995   2023-08-30\n",
       "9996   2023-06-02\n",
       "9997   2023-03-02\n",
       "9998   2023-12-02\n",
       "9999   2023-11-07\n",
       "Name: transaction_date, Length: 10000, dtype: datetime64[ns]"
      ]
     },
     "execution_count": 17,
     "metadata": {},
     "output_type": "execute_result"
    }
   ],
   "source": [
    "df['transaction_date'] = pd.to_datetime(df['transaction_date'], format='%Y-%m-%d', errors='coerce')\n",
    "df['transaction_date']"
   ]
  },
  {
   "cell_type": "markdown",
   "id": "a3972c12-c0c1-402f-9b67-65a6fab86bf6",
   "metadata": {},
   "source": [
    "## Data Imputation"
   ]
  },
  {
   "cell_type": "markdown",
   "id": "e2c98ec9-c030-49f5-b82a-8fe3b1c9558b",
   "metadata": {},
   "source": [
    "We run `info()` command to determine the Non-Null count for each column. It's important to remark that these steps is to fill these values with consistent steps to later data treatment."
   ]
  },
  {
   "cell_type": "code",
   "execution_count": 18,
   "id": "96e07c86-cb07-4443-bb2d-b64b592912ea",
   "metadata": {},
   "outputs": [
    {
     "name": "stdout",
     "output_type": "stream",
     "text": [
      "<class 'pandas.core.frame.DataFrame'>\n",
      "RangeIndex: 10000 entries, 0 to 9999\n",
      "Data columns (total 8 columns):\n",
      " #   Column            Non-Null Count  Dtype         \n",
      "---  ------            --------------  -----         \n",
      " 0   transaction_id    10000 non-null  object        \n",
      " 1   item              9520 non-null   object        \n",
      " 2   quantity          9962 non-null   float64       \n",
      " 3   price_per_unit    9994 non-null   float64       \n",
      " 4   total_spent       9960 non-null   float64       \n",
      " 5   payment_method    6822 non-null   object        \n",
      " 6   location          6039 non-null   object        \n",
      " 7   transaction_date  9540 non-null   datetime64[ns]\n",
      "dtypes: datetime64[ns](1), float64(3), object(4)\n",
      "memory usage: 625.1+ KB\n"
     ]
    }
   ],
   "source": [
    "df.info()"
   ]
  },
  {
   "cell_type": "markdown",
   "id": "9e075da9-7966-4901-8963-5106e78d9ed5",
   "metadata": {},
   "source": [
    "### Imputing missing Data"
   ]
  },
  {
   "cell_type": "markdown",
   "id": "bc6182fe-a184-4cbd-a51a-80eb5d361e22",
   "metadata": {},
   "source": [
    "We fill the NaN values for the `quantity` and `price_per_unit` by using the mean function. On the other hand, the `total_spent` we just simply re used the formula shown above."
   ]
  },
  {
   "cell_type": "code",
   "execution_count": 19,
   "id": "01e75aed-81d4-41c1-b6d0-f353bff53db8",
   "metadata": {},
   "outputs": [
    {
     "name": "stdout",
     "output_type": "stream",
     "text": [
      "<class 'pandas.core.frame.DataFrame'>\n",
      "RangeIndex: 10000 entries, 0 to 9999\n",
      "Data columns (total 8 columns):\n",
      " #   Column            Non-Null Count  Dtype         \n",
      "---  ------            --------------  -----         \n",
      " 0   transaction_id    10000 non-null  object        \n",
      " 1   item              9520 non-null   object        \n",
      " 2   quantity          10000 non-null  float64       \n",
      " 3   price_per_unit    10000 non-null  float64       \n",
      " 4   total_spent       10000 non-null  float64       \n",
      " 5   payment_method    6822 non-null   object        \n",
      " 6   location          6039 non-null   object        \n",
      " 7   transaction_date  9540 non-null   datetime64[ns]\n",
      "dtypes: datetime64[ns](1), float64(3), object(4)\n",
      "memory usage: 625.1+ KB\n"
     ]
    }
   ],
   "source": [
    "impute_f = ['quantity', 'price_per_unit']\n",
    "df[impute_f] = df[impute_f].fillna(df[impute_f].mean())\n",
    "df['total_spent'] = df['total_spent'].fillna(df['quantity'] * df['price_per_unit'])\n",
    "\n",
    "df.info()"
   ]
  },
  {
   "cell_type": "markdown",
   "id": "c86c4e39-86df-4637-840f-9b70a6a5b4a8",
   "metadata": {},
   "source": [
    "To preserve the data size, I filled the NaN values of the categorical columns with \"Unknown\""
   ]
  },
  {
   "cell_type": "code",
   "execution_count": 20,
   "id": "8db4b760-148d-41fc-aa62-1b319896c1ea",
   "metadata": {},
   "outputs": [
    {
     "name": "stdout",
     "output_type": "stream",
     "text": [
      "<class 'pandas.core.frame.DataFrame'>\n",
      "RangeIndex: 10000 entries, 0 to 9999\n",
      "Data columns (total 8 columns):\n",
      " #   Column            Non-Null Count  Dtype         \n",
      "---  ------            --------------  -----         \n",
      " 0   transaction_id    10000 non-null  object        \n",
      " 1   item              10000 non-null  object        \n",
      " 2   quantity          10000 non-null  float64       \n",
      " 3   price_per_unit    10000 non-null  float64       \n",
      " 4   total_spent       10000 non-null  float64       \n",
      " 5   payment_method    10000 non-null  object        \n",
      " 6   location          10000 non-null  object        \n",
      " 7   transaction_date  9540 non-null   datetime64[ns]\n",
      "dtypes: datetime64[ns](1), float64(3), object(4)\n",
      "memory usage: 625.1+ KB\n"
     ]
    },
    {
     "name": "stderr",
     "output_type": "stream",
     "text": [
      "C:\\Users\\Usuario\\AppData\\Local\\Temp\\ipykernel_19608\\3666663414.py:3: FutureWarning: A value is trying to be set on a copy of a DataFrame or Series through chained assignment using an inplace method.\n",
      "The behavior will change in pandas 3.0. This inplace method will never work because the intermediate object on which we are setting values always behaves as a copy.\n",
      "\n",
      "For example, when doing 'df[col].method(value, inplace=True)', try using 'df.method({col: value}, inplace=True)' or df[col] = df[col].method(value) instead, to perform the operation inplace on the original object.\n",
      "\n",
      "\n",
      "  df[x].fillna(\"Unknown\", inplace = True)\n"
     ]
    }
   ],
   "source": [
    "impute_cat = ['item', 'payment_method', 'location']\n",
    "for x in impute_cat:\n",
    "    df[x].fillna(\"Unknown\", inplace = True)\n",
    "\n",
    "df.info()"
   ]
  },
  {
   "cell_type": "markdown",
   "id": "a5fc949a-f358-4a17-b1b9-7e9117d8069e",
   "metadata": {},
   "source": [
    "### Droping NaN Vallues"
   ]
  },
  {
   "cell_type": "markdown",
   "id": "4416f5d6-833f-4af3-9ec9-da39345cd995",
   "metadata": {},
   "source": [
    "I dropped the rows with NaN values because there are only only 460 rows with these values"
   ]
  },
  {
   "cell_type": "code",
   "execution_count": 21,
   "id": "32f50602-bf31-4486-a13a-0a61206bc1b0",
   "metadata": {},
   "outputs": [],
   "source": [
    "df.dropna(subset=['transaction_date'], inplace=True)"
   ]
  },
  {
   "cell_type": "markdown",
   "id": "bc83dce6-aa77-4d28-a6ca-81a296645cfb",
   "metadata": {},
   "source": [
    "## Overview of Clean DataSet"
   ]
  },
  {
   "cell_type": "code",
   "execution_count": 22,
   "id": "c492749f-5cc0-41d7-8dd8-301133b867c3",
   "metadata": {},
   "outputs": [
    {
     "name": "stdout",
     "output_type": "stream",
     "text": [
      "<class 'pandas.core.frame.DataFrame'>\n",
      "Index: 9540 entries, 0 to 9999\n",
      "Data columns (total 8 columns):\n",
      " #   Column            Non-Null Count  Dtype         \n",
      "---  ------            --------------  -----         \n",
      " 0   transaction_id    9540 non-null   object        \n",
      " 1   item              9540 non-null   object        \n",
      " 2   quantity          9540 non-null   float64       \n",
      " 3   price_per_unit    9540 non-null   float64       \n",
      " 4   total_spent       9540 non-null   float64       \n",
      " 5   payment_method    9540 non-null   object        \n",
      " 6   location          9540 non-null   object        \n",
      " 7   transaction_date  9540 non-null   datetime64[ns]\n",
      "dtypes: datetime64[ns](1), float64(3), object(4)\n",
      "memory usage: 670.8+ KB\n"
     ]
    }
   ],
   "source": [
    "df.info()"
   ]
  },
  {
   "cell_type": "code",
   "execution_count": 23,
   "id": "056a999c-0a00-4f78-9f77-b8f54635746c",
   "metadata": {},
   "outputs": [
    {
     "data": {
      "text/html": [
       "<div>\n",
       "<style scoped>\n",
       "    .dataframe tbody tr th:only-of-type {\n",
       "        vertical-align: middle;\n",
       "    }\n",
       "\n",
       "    .dataframe tbody tr th {\n",
       "        vertical-align: top;\n",
       "    }\n",
       "\n",
       "    .dataframe thead th {\n",
       "        text-align: right;\n",
       "    }\n",
       "</style>\n",
       "<table border=\"1\" class=\"dataframe\">\n",
       "  <thead>\n",
       "    <tr style=\"text-align: right;\">\n",
       "      <th></th>\n",
       "      <th>quantity</th>\n",
       "      <th>price_per_unit</th>\n",
       "      <th>total_spent</th>\n",
       "      <th>transaction_date</th>\n",
       "    </tr>\n",
       "  </thead>\n",
       "  <tbody>\n",
       "    <tr>\n",
       "      <th>count</th>\n",
       "      <td>9540.000000</td>\n",
       "      <td>9540.000000</td>\n",
       "      <td>9540.000000</td>\n",
       "      <td>9540</td>\n",
       "    </tr>\n",
       "    <tr>\n",
       "      <th>mean</th>\n",
       "      <td>3.022004</td>\n",
       "      <td>2.948604</td>\n",
       "      <td>8.923689</td>\n",
       "      <td>2023-07-01 23:00:31.698113536</td>\n",
       "    </tr>\n",
       "    <tr>\n",
       "      <th>min</th>\n",
       "      <td>1.000000</td>\n",
       "      <td>1.000000</td>\n",
       "      <td>1.000000</td>\n",
       "      <td>2023-01-01 00:00:00</td>\n",
       "    </tr>\n",
       "    <tr>\n",
       "      <th>25%</th>\n",
       "      <td>2.000000</td>\n",
       "      <td>2.000000</td>\n",
       "      <td>4.000000</td>\n",
       "      <td>2023-04-01 00:00:00</td>\n",
       "    </tr>\n",
       "    <tr>\n",
       "      <th>50%</th>\n",
       "      <td>3.000000</td>\n",
       "      <td>3.000000</td>\n",
       "      <td>8.000000</td>\n",
       "      <td>2023-07-02 00:00:00</td>\n",
       "    </tr>\n",
       "    <tr>\n",
       "      <th>75%</th>\n",
       "      <td>4.000000</td>\n",
       "      <td>4.000000</td>\n",
       "      <td>12.000000</td>\n",
       "      <td>2023-10-02 00:00:00</td>\n",
       "    </tr>\n",
       "    <tr>\n",
       "      <th>max</th>\n",
       "      <td>5.000000</td>\n",
       "      <td>5.000000</td>\n",
       "      <td>25.000000</td>\n",
       "      <td>2023-12-31 00:00:00</td>\n",
       "    </tr>\n",
       "    <tr>\n",
       "      <th>std</th>\n",
       "      <td>1.417191</td>\n",
       "      <td>1.278714</td>\n",
       "      <td>6.001516</td>\n",
       "      <td>NaN</td>\n",
       "    </tr>\n",
       "  </tbody>\n",
       "</table>\n",
       "</div>"
      ],
      "text/plain": [
       "          quantity  price_per_unit  total_spent               transaction_date\n",
       "count  9540.000000     9540.000000  9540.000000                           9540\n",
       "mean      3.022004        2.948604     8.923689  2023-07-01 23:00:31.698113536\n",
       "min       1.000000        1.000000     1.000000            2023-01-01 00:00:00\n",
       "25%       2.000000        2.000000     4.000000            2023-04-01 00:00:00\n",
       "50%       3.000000        3.000000     8.000000            2023-07-02 00:00:00\n",
       "75%       4.000000        4.000000    12.000000            2023-10-02 00:00:00\n",
       "max       5.000000        5.000000    25.000000            2023-12-31 00:00:00\n",
       "std       1.417191        1.278714     6.001516                            NaN"
      ]
     },
     "execution_count": 23,
     "metadata": {},
     "output_type": "execute_result"
    }
   ],
   "source": [
    "df.describe()"
   ]
  }
 ],
 "metadata": {
  "kernelspec": {
   "display_name": "Python (dataset_clean)",
   "language": "python",
   "name": "dataset_clean"
  },
  "language_info": {
   "codemirror_mode": {
    "name": "ipython",
    "version": 3
   },
   "file_extension": ".py",
   "mimetype": "text/x-python",
   "name": "python",
   "nbconvert_exporter": "python",
   "pygments_lexer": "ipython3",
   "version": "3.13.5"
  }
 },
 "nbformat": 4,
 "nbformat_minor": 5
}
